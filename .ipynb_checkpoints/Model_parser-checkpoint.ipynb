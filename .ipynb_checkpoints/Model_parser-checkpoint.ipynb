{
 "cells": [
  {
   "cell_type": "code",
   "execution_count": 1,
   "metadata": {},
   "outputs": [],
   "source": [
    "import pandas as pd\n",
    "import re"
   ]
  },
  {
   "cell_type": "markdown",
   "metadata": {},
   "source": [
    "# Чтение данных"
   ]
  },
  {
   "cell_type": "code",
   "execution_count": 2,
   "metadata": {},
   "outputs": [],
   "source": [
    "data=pd.read_excel('data/fedresurs_rawdata.xlsx')"
   ]
  },
  {
   "cell_type": "code",
   "execution_count": 3,
   "metadata": {},
   "outputs": [],
   "source": [
    "spravochnik=pd.read_excel('data/spr_gaz_n.xlsx')\n",
    "spravochnik.reset_index(inplace=True)"
   ]
  },
  {
   "cell_type": "code",
   "execution_count": 4,
   "metadata": {},
   "outputs": [
    {
     "data": {
      "text/html": [
       "<div>\n",
       "<style scoped>\n",
       "    .dataframe tbody tr th:only-of-type {\n",
       "        vertical-align: middle;\n",
       "    }\n",
       "\n",
       "    .dataframe tbody tr th {\n",
       "        vertical-align: top;\n",
       "    }\n",
       "\n",
       "    .dataframe thead th {\n",
       "        text-align: right;\n",
       "    }\n",
       "</style>\n",
       "<table border=\"1\" class=\"dataframe\">\n",
       "  <thead>\n",
       "    <tr style=\"text-align: right;\">\n",
       "      <th></th>\n",
       "      <th>index</th>\n",
       "      <th>modification</th>\n",
       "      <th>model</th>\n",
       "      <th>describe</th>\n",
       "      <th>site_cnt</th>\n",
       "      <th>base_len</th>\n",
       "      <th>gear</th>\n",
       "      <th>engine</th>\n",
       "    </tr>\n",
       "  </thead>\n",
       "  <tbody>\n",
       "    <tr>\n",
       "      <th>28</th>\n",
       "      <td>28</td>\n",
       "      <td>C41R13-60(7DA)</td>\n",
       "      <td>ГАЗон NEXT City</td>\n",
       "      <td>Борт</td>\n",
       "      <td>3 места</td>\n",
       "      <td>Укороченное шасси</td>\n",
       "      <td>4х2</td>\n",
       "      <td>Дизель (ЯМЗ)</td>\n",
       "    </tr>\n",
       "    <tr>\n",
       "      <th>31</th>\n",
       "      <td>31</td>\n",
       "      <td>C41R13-60</td>\n",
       "      <td>ГАЗон NEXT</td>\n",
       "      <td>Борт</td>\n",
       "      <td>3 места</td>\n",
       "      <td>Укороченное шасси</td>\n",
       "      <td>4х2</td>\n",
       "      <td>Дизель (ЯМЗ)</td>\n",
       "    </tr>\n",
       "  </tbody>\n",
       "</table>\n",
       "</div>"
      ],
      "text/plain": [
       "    index    modification            model describe site_cnt  \\\n",
       "28     28  C41R13-60(7DA)  ГАЗон NEXT City     Борт  3 места   \n",
       "31     31       C41R13-60       ГАЗон NEXT     Борт  3 места   \n",
       "\n",
       "             base_len gear        engine  \n",
       "28  Укороченное шасси  4х2  Дизель (ЯМЗ)  \n",
       "31  Укороченное шасси  4х2  Дизель (ЯМЗ)  "
      ]
     },
     "execution_count": 4,
     "metadata": {},
     "output_type": "execute_result"
    }
   ],
   "source": [
    "spravochnik.loc[spravochnik['modification'].apply(lambda x: 'C41R13' in x)]"
   ]
  },
  {
   "cell_type": "code",
   "execution_count": 5,
   "metadata": {},
   "outputs": [
    {
     "data": {
      "text/plain": [
       "'ГАЗ C41R13'"
      ]
     },
     "execution_count": 5,
     "metadata": {},
     "output_type": "execute_result"
    }
   ],
   "source": [
    "data.loc[19, 'description']"
   ]
  },
  {
   "cell_type": "markdown",
   "metadata": {},
   "source": [
    "# Поиск моделей в данных федресурса"
   ]
  },
  {
   "cell_type": "code",
   "execution_count": 6,
   "metadata": {},
   "outputs": [],
   "source": [
    "# Методы для поиска моделей в тексте\n",
    "patterns_case_ins=['ГАЗ - \\S+', 'ГАЗ – \\S+', 'ГАЗ \\S+', \n",
    "          'ГАЗ - \\S+ Next', 'ГАЗ – \\S+ Next', 'ГАЗ \\S+ Next',          \n",
    "          'Газель', 'Газель Next']\n",
    "\n",
    "patterns_case_sen=['ГАЗ', 'а/м Газ']\n",
    "\n",
    "def find_matches(text):\n",
    "    text=text.replace('(',' (')\n",
    "    text=text.replace(')',') ')\n",
    "    text=text.replace('-',' -')\n",
    "    text=text.replace('-','- ')\n",
    "    text=text.replace('/',' /')\n",
    "    text=text.replace('/','/ ')\n",
    "    \n",
    "    text=text.replace('Марка:',' ')\n",
    "    text=text.replace('марка:',' ')\n",
    "    text=text.replace('модель:',' ')\n",
    "    text=text.replace('Модель:',' ')\n",
    "    text=text.replace('\\t',' ')\n",
    "    text=text.replace(';',' ')\n",
    "    text=text.replace(',',' ')\n",
    "    text=text.replace('.',' ')\n",
    "    text=text.replace(' –',' ')\n",
    "    text=text.replace(' -',' ')\n",
    "    text=' '.join(text.split())\n",
    "    found=[]\n",
    "    for p in patterns_case_ins:\n",
    "        found_in_text=re.findall(p, text, re.IGNORECASE)\n",
    "        for i in range(len(found_in_text)):\n",
    "            found_in_text[i]=delete_trash(found_in_text[i])\n",
    "        found=found+found_in_text\n",
    "        \n",
    "    for p in patterns_case_sen:\n",
    "        found_in_text=re.findall(p, text)\n",
    "        for i in range(len(found_in_text)):\n",
    "            found_in_text[i]=delete_trash(found_in_text[i])\n",
    "        found=found+found_in_text\n",
    "        \n",
    "    return list(set(found))\n",
    "\n",
    "def unique_models(found_column):\n",
    "    result=[]\n",
    "    for e in found_column:\n",
    "        result=result+e\n",
    "    return list(set(result))\n",
    "\n",
    "def delete_trash(text_with_trash):\n",
    "    trash_words=['Год', 'АВТОМОБИЛЬ', 'ГРУЗОВОЙ', 'Наименование', '(VIN)', '/Dasan',\n",
    "                  'двигатель:']\n",
    "    for trash_word in trash_words:\n",
    "        text_with_trash=text_with_trash.replace(trash_word,'')\n",
    "    \n",
    "    trash_symbols=['/']\n",
    "    for trash_symbol in trash_symbols:\n",
    "        text_with_trash=text_with_trash.strip(trash_symbol)\n",
    "    \n",
    "    return text_with_trash"
   ]
  },
  {
   "cell_type": "code",
   "execution_count": 7,
   "metadata": {},
   "outputs": [
    {
     "data": {
      "text/plain": [
       "['Газ ы123']"
      ]
     },
     "execution_count": 7,
     "metadata": {},
     "output_type": "execute_result"
    }
   ],
   "source": [
    "# тест поисковика моделей\n",
    "a='Газ- ы123'\n",
    "find_matches(a)"
   ]
  },
  {
   "cell_type": "code",
   "execution_count": 8,
   "metadata": {},
   "outputs": [],
   "source": [
    "# Поиск моделей в файле федресурса\n",
    "data['found']=data['description'].apply(lambda x: find_matches(x))\n",
    "data['found']=data['found']+data['subjectId'].apply(lambda x: find_matches(str(x)))"
   ]
  },
  {
   "cell_type": "code",
   "execution_count": 9,
   "metadata": {},
   "outputs": [],
   "source": [
    "#найденные модели - в текст\n",
    "data['found_text']=data['found'].apply(lambda x:','.join(x))"
   ]
  },
  {
   "cell_type": "code",
   "execution_count": 10,
   "metadata": {},
   "outputs": [],
   "source": [
    "# Сохранение результатов поиска моделей в файл\n",
    "data.to_excel('result/fedresurs_result.xlsx')"
   ]
  },
  {
   "cell_type": "markdown",
   "metadata": {},
   "source": [
    "# Соединение федресурса со справочником"
   ]
  },
  {
   "cell_type": "code",
   "execution_count": 11,
   "metadata": {},
   "outputs": [
    {
     "data": {
      "text/html": [
       "<div>\n",
       "<style scoped>\n",
       "    .dataframe tbody tr th:only-of-type {\n",
       "        vertical-align: middle;\n",
       "    }\n",
       "\n",
       "    .dataframe tbody tr th {\n",
       "        vertical-align: top;\n",
       "    }\n",
       "\n",
       "    .dataframe thead th {\n",
       "        text-align: right;\n",
       "    }\n",
       "</style>\n",
       "<table border=\"1\" class=\"dataframe\">\n",
       "  <thead>\n",
       "    <tr style=\"text-align: right;\">\n",
       "      <th></th>\n",
       "      <th>index</th>\n",
       "      <th>modification</th>\n",
       "      <th>model</th>\n",
       "      <th>describe</th>\n",
       "      <th>site_cnt</th>\n",
       "      <th>base_len</th>\n",
       "      <th>gear</th>\n",
       "      <th>engine</th>\n",
       "    </tr>\n",
       "  </thead>\n",
       "  <tbody>\n",
       "    <tr>\n",
       "      <th>0</th>\n",
       "      <td>0</td>\n",
       "      <td>A21R22-70</td>\n",
       "      <td>ГАЗель NEXT</td>\n",
       "      <td>Борт</td>\n",
       "      <td>3 места</td>\n",
       "      <td>Стандартное шасси</td>\n",
       "      <td>4x2</td>\n",
       "      <td>Дизель (Cummins)</td>\n",
       "    </tr>\n",
       "    <tr>\n",
       "      <th>1</th>\n",
       "      <td>1</td>\n",
       "      <td>A21R23-50</td>\n",
       "      <td>ГАЗель NEXT</td>\n",
       "      <td>Борт</td>\n",
       "      <td>3 места</td>\n",
       "      <td>Стандартное шасси</td>\n",
       "      <td>4x2</td>\n",
       "      <td>Бензин (Evotech)</td>\n",
       "    </tr>\n",
       "    <tr>\n",
       "      <th>2</th>\n",
       "      <td>2</td>\n",
       "      <td>A21R25-20</td>\n",
       "      <td>ГАЗель NEXT</td>\n",
       "      <td>Борт</td>\n",
       "      <td>3 места</td>\n",
       "      <td>Стандартное шасси</td>\n",
       "      <td>4x2</td>\n",
       "      <td>Битопливный с ГБО</td>\n",
       "    </tr>\n",
       "    <tr>\n",
       "      <th>3</th>\n",
       "      <td>3</td>\n",
       "      <td>A21R32-70</td>\n",
       "      <td>ГАЗель NEXT</td>\n",
       "      <td>Борт</td>\n",
       "      <td>3 места</td>\n",
       "      <td>Удлиненное шасси</td>\n",
       "      <td>4x2</td>\n",
       "      <td>Дизель (Cummins)</td>\n",
       "    </tr>\n",
       "    <tr>\n",
       "      <th>4</th>\n",
       "      <td>4</td>\n",
       "      <td>A21R33-50</td>\n",
       "      <td>ГАЗель NEXT</td>\n",
       "      <td>Борт</td>\n",
       "      <td>3 места</td>\n",
       "      <td>Удлиненное шасси</td>\n",
       "      <td>4x2</td>\n",
       "      <td>Бензин (Evotech)</td>\n",
       "    </tr>\n",
       "  </tbody>\n",
       "</table>\n",
       "</div>"
      ],
      "text/plain": [
       "   index modification        model describe site_cnt           base_len gear  \\\n",
       "0      0    A21R22-70  ГАЗель NEXT     Борт  3 места  Стандартное шасси  4x2   \n",
       "1      1    A21R23-50  ГАЗель NEXT     Борт  3 места  Стандартное шасси  4x2   \n",
       "2      2    A21R25-20  ГАЗель NEXT     Борт  3 места  Стандартное шасси  4x2   \n",
       "3      3    A21R32-70  ГАЗель NEXT     Борт  3 места   Удлиненное шасси  4x2   \n",
       "4      4    A21R33-50  ГАЗель NEXT     Борт  3 места   Удлиненное шасси  4x2   \n",
       "\n",
       "              engine  \n",
       "0   Дизель (Cummins)  \n",
       "1   Бензин (Evotech)  \n",
       "2  Битопливный с ГБО  \n",
       "3   Дизель (Cummins)  \n",
       "4   Бензин (Evotech)  "
      ]
     },
     "execution_count": 11,
     "metadata": {},
     "output_type": "execute_result"
    }
   ],
   "source": [
    "spravochnik.head(5)"
   ]
  },
  {
   "cell_type": "code",
   "execution_count": 12,
   "metadata": {},
   "outputs": [],
   "source": [
    "def find_in_catalog(mark):\n",
    "    return spravochnik.index[spravochnik['modification'].apply(lambda x: x in mark or mark in x)].tolist()\n",
    "    "
   ]
  },
  {
   "cell_type": "code",
   "execution_count": 13,
   "metadata": {},
   "outputs": [
    {
     "data": {
      "text/plain": [
       "[16]"
      ]
     },
     "execution_count": 13,
     "metadata": {},
     "output_type": "execute_result"
    }
   ],
   "source": [
    "find_in_catalog('С45R92')"
   ]
  },
  {
   "cell_type": "code",
   "execution_count": 14,
   "metadata": {},
   "outputs": [],
   "source": [
    "def process_found_marks(found_marks):\n",
    "    found_marks_in_catalog=[]\n",
    "    #перебираем каждую модель из массива найденных моделей\n",
    "    for found_mark in found_marks:\n",
    "        found_mark_in_catalog=[]\n",
    "        #разбиваем модель на кусочки по пробелу\n",
    "        found_mark_parts=found_mark.split()\n",
    "        for found_mark_part in found_mark_parts:\n",
    "            #Ищем часть из модели в каталоге\n",
    "            found_mark_in_catalog=found_mark_in_catalog+find_in_catalog(found_mark_part)\n",
    "        found_marks_in_catalog=found_marks_in_catalog+found_mark_in_catalog\n",
    "    return list(set(found_marks_in_catalog))"
   ]
  },
  {
   "cell_type": "code",
   "execution_count": 15,
   "metadata": {},
   "outputs": [
    {
     "data": {
      "text/plain": [
       "[16, 3]"
      ]
     },
     "execution_count": 15,
     "metadata": {},
     "output_type": "execute_result"
    }
   ],
   "source": [
    "process_found_marks(['A21R32', 'С45R92'])"
   ]
  },
  {
   "cell_type": "code",
   "execution_count": 16,
   "metadata": {},
   "outputs": [
    {
     "data": {
      "text/plain": [
       "type                Заключение договора финансовой аренды (лизинга)\n",
       "publishDate                                     2016-11-16 00:00:00\n",
       "guid                               01281C61C3E3943B96442BCE0F9ECA04\n",
       "messageNumber                                               1323291\n",
       "isCancelled                                                     NaN\n",
       "contract_num                                               66247/ДЛ\n",
       "contract_date                                   2016-10-18 00:00:00\n",
       "role1                                                 Лизингодатель\n",
       "name1             Общество с ограниченной ответственностью «Элем...\n",
       "ogrn1                                                    1.0478e+12\n",
       "inn1                                                    7.70656e+09\n",
       "role2                                             Лизингополучатель\n",
       "name2              Открытое акционерное общество \"Служба Заказчика\"\n",
       "ogrn2                                                   1.10754e+12\n",
       "inn2                                                    7.53611e+09\n",
       "contract_type                                               Договор\n",
       "subject_guid                   449E038E-F96A-453C-8F91-78575ADB76B4\n",
       "subjectId                                                  ГАЗ-2705\n",
       "classifierCode                                               106008\n",
       "classifierName                                           Автомобили\n",
       "description       VIN/Зав.№:X96270570H0820707, Марка, модель:ГАЗ...\n",
       "ЮЛ_ФЛ                                                            ЮЛ\n",
       "Длин ИНН                                                         10\n",
       "found                               [ГАЗ, ГАЗ 27057, ГАЗ, ГАЗ 2705]\n",
       "found_text                               ГАЗ,ГАЗ 27057,ГАЗ,ГАЗ 2705\n",
       "Name: 99, dtype: object"
      ]
     },
     "execution_count": 16,
     "metadata": {},
     "output_type": "execute_result"
    }
   ],
   "source": [
    "data.loc[99]"
   ]
  },
  {
   "cell_type": "code",
   "execution_count": 17,
   "metadata": {},
   "outputs": [],
   "source": [
    "#заполняем ссылки на возможные марки\n",
    "data['found_links']=data['found'].apply(lambda x: process_found_marks(x))"
   ]
  },
  {
   "cell_type": "code",
   "execution_count": 18,
   "metadata": {},
   "outputs": [],
   "source": [
    "#дубаляем ключ из индекса\n",
    "data.reset_index(inplace=True)"
   ]
  },
  {
   "cell_type": "code",
   "execution_count": 19,
   "metadata": {},
   "outputs": [],
   "source": [
    "data_links=data[['index', 'found_links']]"
   ]
  },
  {
   "cell_type": "code",
   "execution_count": 20,
   "metadata": {},
   "outputs": [
    {
     "name": "stderr",
     "output_type": "stream",
     "text": [
      "C:\\Users\\Admin\\Anaconda3\\lib\\site-packages\\ipykernel_launcher.py:12: FutureWarning: '.reindex_axis' is deprecated and will be removed in a future version. Use '.reindex' instead.\n",
      "  if sys.path[0] == '':\n"
     ]
    }
   ],
   "source": [
    "import itertools\n",
    "import pandas as pd\n",
    "import numpy as np\n",
    "\n",
    "def melt_series(s):\n",
    "    lengths = s.str.len().values\n",
    "    flat = [i for i in itertools.chain.from_iterable(s.values.tolist())]\n",
    "    idx = np.repeat(s.index.values, lengths)\n",
    "    return pd.Series(flat, idx, name=s.name)\n",
    "\n",
    "\n",
    "links_table=melt_series(data_links['found_links']).to_frame().join(data_links.drop('found_links', 1)).reindex_axis(data_links.columns, 1)"
   ]
  },
  {
   "cell_type": "markdown",
   "metadata": {},
   "source": [
    "# Сохраним результаты в файлы для БД"
   ]
  },
  {
   "cell_type": "code",
   "execution_count": 23,
   "metadata": {},
   "outputs": [],
   "source": [
    "links_table.columns=['agreement_id', 'model_id']\n",
    "data.rename({'index':'agreement_id'}, axis=1, inplace=True)\n",
    "spravochnik.rename({'index':'model_id'}, axis=1, inplace=True)"
   ]
  },
  {
   "cell_type": "code",
   "execution_count": 33,
   "metadata": {},
   "outputs": [],
   "source": [
    "data.drop(['found_links', 'found_text', 'found'], axis=1).to_excel('db/db_agreements.xlsx', index=False, encoding='1251')"
   ]
  },
  {
   "cell_type": "code",
   "execution_count": 34,
   "metadata": {},
   "outputs": [],
   "source": [
    "links_table.to_excel('db/db_agreements_models.xlsx', index=False, encoding='1251')"
   ]
  },
  {
   "cell_type": "code",
   "execution_count": 35,
   "metadata": {},
   "outputs": [],
   "source": [
    "spravochnik.to_excel('db/db_models.xlsx', index=False, encoding='1251')"
   ]
  }
 ],
 "metadata": {
  "kernelspec": {
   "display_name": "Python 3",
   "language": "python",
   "name": "python3"
  },
  "language_info": {
   "codemirror_mode": {
    "name": "ipython",
    "version": 3
   },
   "file_extension": ".py",
   "mimetype": "text/x-python",
   "name": "python",
   "nbconvert_exporter": "python",
   "pygments_lexer": "ipython3",
   "version": "3.6.4"
  }
 },
 "nbformat": 4,
 "nbformat_minor": 2
}

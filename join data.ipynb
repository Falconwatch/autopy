{
 "cells": [
  {
   "cell_type": "code",
   "execution_count": 1,
   "metadata": {},
   "outputs": [],
   "source": [
    "import pandas as pd"
   ]
  },
  {
   "cell_type": "code",
   "execution_count": 2,
   "metadata": {},
   "outputs": [],
   "source": [
    "spr = pd.read_excel('spr_gaz_n.xlsx')"
   ]
  },
  {
   "cell_type": "code",
   "execution_count": 3,
   "metadata": {},
   "outputs": [
    {
     "data": {
      "text/html": [
       "<div>\n",
       "<style scoped>\n",
       "    .dataframe tbody tr th:only-of-type {\n",
       "        vertical-align: middle;\n",
       "    }\n",
       "\n",
       "    .dataframe tbody tr th {\n",
       "        vertical-align: top;\n",
       "    }\n",
       "\n",
       "    .dataframe thead th {\n",
       "        text-align: right;\n",
       "    }\n",
       "</style>\n",
       "<table border=\"1\" class=\"dataframe\">\n",
       "  <thead>\n",
       "    <tr style=\"text-align: right;\">\n",
       "      <th></th>\n",
       "      <th>modification</th>\n",
       "      <th>model</th>\n",
       "      <th>describe</th>\n",
       "      <th>site_cnt</th>\n",
       "      <th>base_len</th>\n",
       "      <th>gear</th>\n",
       "      <th>engine</th>\n",
       "    </tr>\n",
       "  </thead>\n",
       "  <tbody>\n",
       "    <tr>\n",
       "      <th>28</th>\n",
       "      <td>C41R13-60(7DA)</td>\n",
       "      <td>ГАЗон NEXT City</td>\n",
       "      <td>Борт</td>\n",
       "      <td>3 места</td>\n",
       "      <td>Укороченное шасси</td>\n",
       "      <td>4х2</td>\n",
       "      <td>Дизель (ЯМЗ)</td>\n",
       "    </tr>\n",
       "    <tr>\n",
       "      <th>31</th>\n",
       "      <td>C41R13-60</td>\n",
       "      <td>ГАЗон NEXT</td>\n",
       "      <td>Борт</td>\n",
       "      <td>3 места</td>\n",
       "      <td>Укороченное шасси</td>\n",
       "      <td>4х2</td>\n",
       "      <td>Дизель (ЯМЗ)</td>\n",
       "    </tr>\n",
       "  </tbody>\n",
       "</table>\n",
       "</div>"
      ],
      "text/plain": [
       "      modification            model describe site_cnt           base_len gear  \\\n",
       "28  C41R13-60(7DA)  ГАЗон NEXT City     Борт  3 места  Укороченное шасси  4х2   \n",
       "31       C41R13-60       ГАЗон NEXT     Борт  3 места  Укороченное шасси  4х2   \n",
       "\n",
       "          engine  \n",
       "28  Дизель (ЯМЗ)  \n",
       "31  Дизель (ЯМЗ)  "
      ]
     },
     "execution_count": 3,
     "metadata": {},
     "output_type": "execute_result"
    }
   ],
   "source": [
    "spr.loc[spr['modification'].str.contains('C41R13'),:]"
   ]
  },
  {
   "cell_type": "code",
   "execution_count": 5,
   "metadata": {},
   "outputs": [],
   "source": [
    "data = pd.read_excel('gaz_subjects.xlsx', converters={'inn1':str,'inn2':str})\n",
    "#data = pd.read_csv('gaz_subjects.csv', sep=';', encoding='1251')"
   ]
  },
  {
   "cell_type": "code",
   "execution_count": 7,
   "metadata": {},
   "outputs": [
    {
     "data": {
      "text/html": [
       "<div>\n",
       "<style scoped>\n",
       "    .dataframe tbody tr th:only-of-type {\n",
       "        vertical-align: middle;\n",
       "    }\n",
       "\n",
       "    .dataframe tbody tr th {\n",
       "        vertical-align: top;\n",
       "    }\n",
       "\n",
       "    .dataframe thead th {\n",
       "        text-align: right;\n",
       "    }\n",
       "</style>\n",
       "<table border=\"1\" class=\"dataframe\">\n",
       "  <thead>\n",
       "    <tr style=\"text-align: right;\">\n",
       "      <th></th>\n",
       "      <th>Дата заявки</th>\n",
       "      <th>ИНН</th>\n",
       "      <th>ОГРН</th>\n",
       "      <th>Наименование ЛП</th>\n",
       "      <th>Предмет лизинга</th>\n",
       "      <th>Передан (данет)</th>\n",
       "      <th>Номер договора</th>\n",
       "      <th>Дата договора</th>\n",
       "      <th>Дата передачи</th>\n",
       "    </tr>\n",
       "  </thead>\n",
       "  <tbody>\n",
       "    <tr>\n",
       "      <th>0</th>\n",
       "      <td>2015-06-08</td>\n",
       "      <td>7.816531e+09</td>\n",
       "      <td>1.127847e+12</td>\n",
       "      <td>ООО \"Комфорт-Сервис\"</td>\n",
       "      <td>ГАЗ-3302</td>\n",
       "      <td>Да</td>\n",
       "      <td>АХ_ЭЛ/Спб-64583/ДЛ</td>\n",
       "      <td>2016-07-04</td>\n",
       "      <td>2016-07-08</td>\n",
       "    </tr>\n",
       "    <tr>\n",
       "      <th>1</th>\n",
       "      <td>2015-12-14</td>\n",
       "      <td>3.403006e+11</td>\n",
       "      <td>3.153443e+14</td>\n",
       "      <td>ИП Нестерова Инна Идульваевна</td>\n",
       "      <td>ГАЗ-A21 NEXT</td>\n",
       "      <td>Нет</td>\n",
       "      <td>АХ_ЭЛ/Мск-61095/ДЛ</td>\n",
       "      <td>2016-02-09</td>\n",
       "      <td>NaT</td>\n",
       "    </tr>\n",
       "    <tr>\n",
       "      <th>2</th>\n",
       "      <td>2015-12-16</td>\n",
       "      <td>5.751002e+11</td>\n",
       "      <td>3.045751e+14</td>\n",
       "      <td>ИП Генкин Олег Юрьевич</td>\n",
       "      <td>ГАЗ-A64 NEXT</td>\n",
       "      <td>Да</td>\n",
       "      <td>АХ_ЭЛ/Орл-61579/ДЛ</td>\n",
       "      <td>2016-02-29</td>\n",
       "      <td>2016-03-18</td>\n",
       "    </tr>\n",
       "    <tr>\n",
       "      <th>3</th>\n",
       "      <td>2015-12-18</td>\n",
       "      <td>6.684008e+09</td>\n",
       "      <td>1.136684e+12</td>\n",
       "      <td>ООО \"Елисей\"</td>\n",
       "      <td>ГАЗ-C41R33</td>\n",
       "      <td>Да</td>\n",
       "      <td>АХ_ЭЛ/Екб-60771/ДЛ</td>\n",
       "      <td>2016-01-19</td>\n",
       "      <td>2016-01-26</td>\n",
       "    </tr>\n",
       "    <tr>\n",
       "      <th>4</th>\n",
       "      <td>2015-12-28</td>\n",
       "      <td>2.373002e+09</td>\n",
       "      <td>1.122373e+12</td>\n",
       "      <td>ООО \"Практик-рыба\"</td>\n",
       "      <td>ГАЗ-A23R33</td>\n",
       "      <td>Да</td>\n",
       "      <td>АХ_ЭЛ/Крд-60748/ДЛ</td>\n",
       "      <td>2016-01-18</td>\n",
       "      <td>2016-02-09</td>\n",
       "    </tr>\n",
       "  </tbody>\n",
       "</table>\n",
       "</div>"
      ],
      "text/plain": [
       "  Дата заявки           ИНН          ОГРН                Наименование ЛП  \\\n",
       "0  2015-06-08  7.816531e+09  1.127847e+12           ООО \"Комфорт-Сервис\"   \n",
       "1  2015-12-14  3.403006e+11  3.153443e+14  ИП Нестерова Инна Идульваевна   \n",
       "2  2015-12-16  5.751002e+11  3.045751e+14         ИП Генкин Олег Юрьевич   \n",
       "3  2015-12-18  6.684008e+09  1.136684e+12                   ООО \"Елисей\"   \n",
       "4  2015-12-28  2.373002e+09  1.122373e+12             ООО \"Практик-рыба\"   \n",
       "\n",
       "  Предмет лизинга Передан (данет)      Номер договора Дата договора  \\\n",
       "0        ГАЗ-3302              Да  АХ_ЭЛ/Спб-64583/ДЛ    2016-07-04   \n",
       "1    ГАЗ-A21 NEXT             Нет  АХ_ЭЛ/Мск-61095/ДЛ    2016-02-09   \n",
       "2    ГАЗ-A64 NEXT              Да  АХ_ЭЛ/Орл-61579/ДЛ    2016-02-29   \n",
       "3      ГАЗ-C41R33              Да  АХ_ЭЛ/Екб-60771/ДЛ    2016-01-19   \n",
       "4      ГАЗ-A23R33              Да  АХ_ЭЛ/Крд-60748/ДЛ    2016-01-18   \n",
       "\n",
       "  Дата передачи  \n",
       "0    2016-07-08  \n",
       "1           NaT  \n",
       "2    2016-03-18  \n",
       "3    2016-01-26  \n",
       "4    2016-02-09  "
      ]
     },
     "execution_count": 7,
     "metadata": {},
     "output_type": "execute_result"
    }
   ],
   "source": [
    "data.head()"
   ]
  },
  {
   "cell_type": "code",
   "execution_count": 41,
   "metadata": {},
   "outputs": [],
   "source": [
    "data2 = pd.read_excel('el_vig2.xlsx', converters={'ИНН':str})"
   ]
  },
  {
   "cell_type": "code",
   "execution_count": 42,
   "metadata": {},
   "outputs": [],
   "source": [
    "data2.rename(columns={'ИНН':'inn2', 'Дата договора':'contract_date', 'Номер договора':'guid2', 'Наименование ЛП':'name','Дата заявки':'appl_date', 'Дата передачи':'transfer_date'}, inplace=True)"
   ]
  },
  {
   "cell_type": "code",
   "execution_count": 44,
   "metadata": {},
   "outputs": [],
   "source": [
    "data3 = data2.loc[pd.isna(data2['contract_date']) == True, :]"
   ]
  },
  {
   "cell_type": "code",
   "execution_count": 46,
   "metadata": {},
   "outputs": [],
   "source": [
    "data2 = data2.loc[data2['transfer_date'] > '2016-10-01', :]"
   ]
  },
  {
   "cell_type": "code",
   "execution_count": 48,
   "metadata": {
    "scrolled": true
   },
   "outputs": [],
   "source": [
    "data_1 = data.loc[:,['inn1','inn2','contract_date','guid','name1','name2']].groupby(by=['inn2','contract_date']).agg({'contract_date': max,'inn1': max,'inn2': max,'name1':'max','name2':'max','guid':'count'})\n",
    "data_1.index = [x for x in range(0, len(data_1))]"
   ]
  },
  {
   "cell_type": "code",
   "execution_count": 49,
   "metadata": {
    "scrolled": true
   },
   "outputs": [],
   "source": [
    "#data_21 = data2.loc[pd.isna(data2['contract_date']) == False,['inn2','contract_date','guid2','name']].groupby(by=['inn2','contract_date']).agg({'contract_date': max,'inn2': max,'name':'max', 'guid2':'count'})\n",
    "data_21 = data2.loc[:,['inn2','contract_date','guid2','name']].groupby(by=['inn2','contract_date']).agg({'contract_date': max,'inn2': max,'name':'max', 'guid2':'count'})\n",
    "data_21.index = [x for x in range(0, len(data_21))]"
   ]
  },
  {
   "cell_type": "code",
   "execution_count": 50,
   "metadata": {
    "scrolled": true
   },
   "outputs": [],
   "source": [
    "data_21['contract_date'] = pd.to_datetime(data_21['contract_date'])"
   ]
  },
  {
   "cell_type": "code",
   "execution_count": 51,
   "metadata": {},
   "outputs": [],
   "source": [
    "#data_31 = data2.loc[pd.isna(data2['contract_date']) == True,['inn2','guid2','name','appl_date']].groupby(by=['inn2','appl_date']).agg({'appl_date':'max','inn2': 'max','name':'max', 'guid2':'count'})\n",
    "data_31 = data3.loc[:,['inn2','guid2','name','appl_date']].groupby(by=['inn2','appl_date']).agg({'appl_date':'max','inn2': 'max','name':'max', 'guid2':'count'})\n",
    "data_31.index = [x for x in range(0, len(data_31))]"
   ]
  },
  {
   "cell_type": "code",
   "execution_count": 54,
   "metadata": {
    "scrolled": true
   },
   "outputs": [],
   "source": [
    "new_data = pd.merge(data_1, data_21, on = ['inn2','contract_date'], how='left')\n",
    "new_data2 = pd.merge(data_21, data_1, on = ['inn2','contract_date'], how='left')\n",
    "new_data3 = pd.merge(data_1.loc[data_1['inn1'] == '7706561875',:], data_21, on = ['inn2','contract_date'], how='left')\n",
    "new_data4 = pd.merge(data_31, data_1, on = ['inn2'], how='left')"
   ]
  },
  {
   "cell_type": "code",
   "execution_count": 55,
   "metadata": {},
   "outputs": [
    {
     "data": {
      "text/html": [
       "<div>\n",
       "<style scoped>\n",
       "    .dataframe tbody tr th:only-of-type {\n",
       "        vertical-align: middle;\n",
       "    }\n",
       "\n",
       "    .dataframe tbody tr th {\n",
       "        vertical-align: top;\n",
       "    }\n",
       "\n",
       "    .dataframe thead th {\n",
       "        text-align: right;\n",
       "    }\n",
       "</style>\n",
       "<table border=\"1\" class=\"dataframe\">\n",
       "  <thead>\n",
       "    <tr style=\"text-align: right;\">\n",
       "      <th></th>\n",
       "      <th>contract_date</th>\n",
       "      <th>inn1</th>\n",
       "      <th>inn2</th>\n",
       "      <th>name1</th>\n",
       "      <th>name2</th>\n",
       "      <th>guid</th>\n",
       "      <th>name</th>\n",
       "      <th>guid2</th>\n",
       "    </tr>\n",
       "  </thead>\n",
       "  <tbody>\n",
       "    <tr>\n",
       "      <th>6887</th>\n",
       "      <td>2018-05-24</td>\n",
       "      <td>7706561875</td>\n",
       "      <td>504200512007</td>\n",
       "      <td>Общество с ограниченной ответственностью «Элем...</td>\n",
       "      <td>Николаев Александр Федорович</td>\n",
       "      <td>5</td>\n",
       "      <td>ИП Николаев Александр Федорович</td>\n",
       "      <td>5.0</td>\n",
       "    </tr>\n",
       "  </tbody>\n",
       "</table>\n",
       "</div>"
      ],
      "text/plain": [
       "     contract_date        inn1          inn2  \\\n",
       "6887    2018-05-24  7706561875  504200512007   \n",
       "\n",
       "                                                  name1  \\\n",
       "6887  Общество с ограниченной ответственностью «Элем...   \n",
       "\n",
       "                             name2  guid                             name  \\\n",
       "6887  Николаев Александр Федорович     5  ИП Николаев Александр Федорович   \n",
       "\n",
       "      guid2  \n",
       "6887    5.0  "
      ]
     },
     "execution_count": 55,
     "metadata": {},
     "output_type": "execute_result"
    }
   ],
   "source": [
    "new_data.loc[new_data.loc[:,'inn2'] == '504200512007',:]"
   ]
  },
  {
   "cell_type": "code",
   "execution_count": null,
   "metadata": {
    "scrolled": true
   },
   "outputs": [],
   "source": [
    "new_data.loc[new_data['inn2'] == '010503642385', :]"
   ]
  },
  {
   "cell_type": "code",
   "execution_count": null,
   "metadata": {
    "scrolled": true
   },
   "outputs": [],
   "source": [
    "new_data3.isnull().sum()"
   ]
  },
  {
   "cell_type": "code",
   "execution_count": null,
   "metadata": {},
   "outputs": [],
   "source": [
    "new_data4"
   ]
  },
  {
   "cell_type": "code",
   "execution_count": null,
   "metadata": {
    "scrolled": true
   },
   "outputs": [],
   "source": [
    "new_data.loc[(pd.isna(new_data['name']) == False) & (new_data['inn1'] != '7706561875'),:]"
   ]
  }
 ],
 "metadata": {
  "kernelspec": {
   "display_name": "Python 3",
   "language": "python",
   "name": "python3"
  },
  "language_info": {
   "codemirror_mode": {
    "name": "ipython",
    "version": 3
   },
   "file_extension": ".py",
   "mimetype": "text/x-python",
   "name": "python",
   "nbconvert_exporter": "python",
   "pygments_lexer": "ipython3",
   "version": "3.6.4"
  }
 },
 "nbformat": 4,
 "nbformat_minor": 2
}
